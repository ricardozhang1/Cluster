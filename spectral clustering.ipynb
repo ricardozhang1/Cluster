{
 "cells": [
  {
   "cell_type": "code",
   "execution_count": 1,
   "metadata": {},
   "outputs": [],
   "source": [
    "import numpy as np\n",
    "from sklearn import datasets\n",
    "X, y = datasets.make_blobs(n_samples=500, n_features=6, centers=5, cluster_std=[0.4, 0.3, 0.4, 0.3, 0.4], random_state=11)"
   ]
  },
  {
   "cell_type": "code",
   "execution_count": 2,
   "metadata": {},
   "outputs": [
    {
     "name": "stdout",
     "output_type": "stream",
     "text": [
      "Calinski-Harabasz Score 14930.556991471007\n"
     ]
    }
   ],
   "source": [
    "from sklearn.cluster import SpectralClustering\n",
    "y_pred = SpectralClustering().fit_predict(X)\n",
    "from sklearn import metrics\n",
    "print(\"Calinski-Harabasz Score\", metrics.calinski_harabaz_score(X, y_pred))"
   ]
  },
  {
   "cell_type": "code",
   "execution_count": 3,
   "metadata": {},
   "outputs": [
    {
     "name": "stdout",
     "output_type": "stream",
     "text": [
      "Calinski-Harabasz Score with gamma= 0.01 n_clusters= 3 score: 1979.7709609161868\n",
      "Calinski-Harabasz Score with gamma= 0.01 n_clusters= 4 score: 3154.0184121901602\n",
      "Calinski-Harabasz Score with gamma= 0.01 n_clusters= 5 score: 23410.638949991386\n",
      "Calinski-Harabasz Score with gamma= 0.01 n_clusters= 6 score: 19303.734087657896\n",
      "Calinski-Harabasz Score with gamma= 0.1 n_clusters= 3 score: 1979.7709609161868\n",
      "Calinski-Harabasz Score with gamma= 0.1 n_clusters= 4 score: 3154.0184121901602\n",
      "Calinski-Harabasz Score with gamma= 0.1 n_clusters= 5 score: 23410.63894999138\n",
      "Calinski-Harabasz Score with gamma= 0.1 n_clusters= 6 score: 19425.588433904024\n",
      "Calinski-Harabasz Score with gamma= 1 n_clusters= 3 score: 110.91758022108206\n",
      "Calinski-Harabasz Score with gamma= 1 n_clusters= 4 score: 1227.882061137965\n",
      "Calinski-Harabasz Score with gamma= 1 n_clusters= 5 score: 23410.638949991386\n",
      "Calinski-Harabasz Score with gamma= 1 n_clusters= 6 score: 19416.978937176762\n"
     ]
    },
    {
     "name": "stderr",
     "output_type": "stream",
     "text": [
      "f:\\my_projects\\env\\lib\\site-packages\\sklearn\\manifold\\spectral_embedding_.py:237: UserWarning: Graph is not fully connected, spectral embedding may not work as expected.\n",
      "  warnings.warn(\"Graph is not fully connected, spectral embedding\"\n",
      "f:\\my_projects\\env\\lib\\site-packages\\sklearn\\manifold\\spectral_embedding_.py:237: UserWarning: Graph is not fully connected, spectral embedding may not work as expected.\n",
      "  warnings.warn(\"Graph is not fully connected, spectral embedding\"\n"
     ]
    },
    {
     "name": "stdout",
     "output_type": "stream",
     "text": [
      "Calinski-Harabasz Score with gamma= 10 n_clusters= 3 score: 197.69329170258368\n",
      "Calinski-Harabasz Score with gamma= 10 n_clusters= 4 score: 131.59504884238387\n"
     ]
    },
    {
     "name": "stderr",
     "output_type": "stream",
     "text": [
      "f:\\my_projects\\env\\lib\\site-packages\\sklearn\\manifold\\spectral_embedding_.py:237: UserWarning: Graph is not fully connected, spectral embedding may not work as expected.\n",
      "  warnings.warn(\"Graph is not fully connected, spectral embedding\"\n",
      "f:\\my_projects\\env\\lib\\site-packages\\sklearn\\manifold\\spectral_embedding_.py:237: UserWarning: Graph is not fully connected, spectral embedding may not work as expected.\n",
      "  warnings.warn(\"Graph is not fully connected, spectral embedding\"\n"
     ]
    },
    {
     "name": "stdout",
     "output_type": "stream",
     "text": [
      "Calinski-Harabasz Score with gamma= 10 n_clusters= 5 score: 23410.638949991386\n",
      "Calinski-Harabasz Score with gamma= 10 n_clusters= 6 score: 19134.581457482895\n"
     ]
    }
   ],
   "source": [
    "for index, gamma in enumerate((0.01,0.1,1,10)):\n",
    "    for index, k in enumerate((3,4,5,6)):\n",
    "        y_pred = SpectralClustering(n_clusters=k, gamma=gamma).fit_predict(X)\n",
    "        print(\"Calinski-Harabasz Score with gamma=\", gamma, \"n_clusters=\", k,\"score:\", metrics.calinski_harabaz_score(X, y_pred))"
   ]
  },
  {
   "cell_type": "code",
   "execution_count": 4,
   "metadata": {},
   "outputs": [
    {
     "name": "stdout",
     "output_type": "stream",
     "text": [
      "Calinski-Harabasz Score 14948.519767429716\n"
     ]
    }
   ],
   "source": [
    "y_pred = SpectralClustering(gamma=0.1).fit_predict(X)\n",
    "print(\"Calinski-Harabasz Score\", metrics.calinski_harabaz_score(X, y_pred))"
   ]
  },
  {
   "cell_type": "code",
   "execution_count": null,
   "metadata": {},
   "outputs": [],
   "source": []
  }
 ],
 "metadata": {
  "kernelspec": {
   "display_name": "Python 3",
   "language": "python",
   "name": "python3"
  },
  "language_info": {
   "codemirror_mode": {
    "name": "ipython",
    "version": 3
   },
   "file_extension": ".py",
   "mimetype": "text/x-python",
   "name": "python",
   "nbconvert_exporter": "python",
   "pygments_lexer": "ipython3",
   "version": "3.6.5"
  }
 },
 "nbformat": 4,
 "nbformat_minor": 2
}
